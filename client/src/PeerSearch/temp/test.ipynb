{
 "cells": [
  {
   "cell_type": "code",
   "execution_count": 356,
   "metadata": {},
   "outputs": [],
   "source": [
    "import numpy as np\n",
    "import json\n",
    "import pandas as pd\n",
    "import pymysql.cursors\n",
    "from sklearn.metrics import mutual_info_score as mi\n",
    "import kmedoids"
   ]
  },
  {
   "cell_type": "code",
   "execution_count": 357,
   "metadata": {},
   "outputs": [],
   "source": [
    "connection = pymysql.connect(\"localhost\", \"root\", \"password\", \"test\")"
   ]
  },
  {
   "cell_type": "code",
   "execution_count": 358,
   "metadata": {},
   "outputs": [
    {
     "name": "stdout",
     "output_type": "stream",
     "text": [
      "(('q1', 'a1'), ('q1', 'a2'), ('q1', 'a3'), ('q2', 'a2'), ('q3', 'a2'), ('q3', 'a4'), ('q4', 'a1'), ('q4', 'a2'), ('q5', 'a1'), ('q5', 'a3'), ('q5', 'a4'))\n"
     ]
    }
   ],
   "source": [
    "try:\n",
    "    with connection.cursor() as cursor:\n",
    "        sql = \"SELECT * from ResearcherRelatedArea\"\n",
    "        cursor.execute(sql)\n",
    "        result = cursor.fetchall()\n",
    "        print(result)\n",
    "finally:\n",
    "    connection.close()"
   ]
  },
  {
   "cell_type": "code",
   "execution_count": 359,
   "metadata": {},
   "outputs": [],
   "source": [
    "raw = pd.DataFrame(list(result),columns = ['Researcher_id','Area_id'])"
   ]
  },
  {
   "cell_type": "code",
   "execution_count": 360,
   "metadata": {},
   "outputs": [],
   "source": [
    "rid = list(raw.groupby('Researcher_id').groups.keys())"
   ]
  },
  {
   "cell_type": "code",
   "execution_count": 361,
   "metadata": {},
   "outputs": [],
   "source": [
    "data = list(raw.groupby('Researcher_id').apply(lambda x: list(x['Area_id'].values)))"
   ]
  },
  {
   "cell_type": "code",
   "execution_count": 362,
   "metadata": {},
   "outputs": [
    {
     "data": {
      "text/plain": [
       "[['a1', 'a2', 'a3'], ['a2'], ['a2', 'a4'], ['a1', 'a2'], ['a1', 'a3', 'a4']]"
      ]
     },
     "execution_count": 362,
     "metadata": {},
     "output_type": "execute_result"
    }
   ],
   "source": [
    "data"
   ]
  },
  {
   "cell_type": "code",
   "execution_count": 363,
   "metadata": {},
   "outputs": [],
   "source": [
    "unique_area_idx = {}"
   ]
  },
  {
   "cell_type": "code",
   "execution_count": 364,
   "metadata": {},
   "outputs": [],
   "source": [
    "idx = 0\n",
    "for d in data:\n",
    "    for area in d:\n",
    "        if area not in unique_area_idx:\n",
    "            unique_area_idx[area] = idx\n",
    "            idx += 1"
   ]
  },
  {
   "cell_type": "code",
   "execution_count": 365,
   "metadata": {},
   "outputs": [],
   "source": [
    "freq = np.zeros((len(unique_area_idx),len(unique_area_idx)))"
   ]
  },
  {
   "cell_type": "code",
   "execution_count": 366,
   "metadata": {},
   "outputs": [
    {
     "data": {
      "text/plain": [
       "{'a1': 0, 'a2': 1, 'a3': 2, 'a4': 3}"
      ]
     },
     "execution_count": 366,
     "metadata": {},
     "output_type": "execute_result"
    }
   ],
   "source": [
    "unique_area_idx"
   ]
  },
  {
   "cell_type": "code",
   "execution_count": 367,
   "metadata": {},
   "outputs": [],
   "source": [
    "for d in data:\n",
    "    for a1 in d:\n",
    "        for a2 in d:\n",
    "            freq[unique_area_idx[a1],unique_area_idx[a2]] += 1"
   ]
  },
  {
   "cell_type": "code",
   "execution_count": 368,
   "metadata": {},
   "outputs": [
    {
     "data": {
      "text/plain": [
       "array([[3., 2., 2., 1.],\n",
       "       [2., 4., 1., 1.],\n",
       "       [2., 1., 2., 1.],\n",
       "       [1., 1., 1., 2.]])"
      ]
     },
     "execution_count": 368,
     "metadata": {},
     "output_type": "execute_result"
    }
   ],
   "source": [
    "freq"
   ]
  },
  {
   "cell_type": "code",
   "execution_count": 369,
   "metadata": {},
   "outputs": [],
   "source": [
    "area_dist = 1-freq/np.diag(freq)"
   ]
  },
  {
   "cell_type": "code",
   "execution_count": 370,
   "metadata": {},
   "outputs": [],
   "source": [
    "np.fill_diagonal(area_dist,0)"
   ]
  },
  {
   "cell_type": "code",
   "execution_count": 371,
   "metadata": {},
   "outputs": [],
   "source": [
    "area_dist = (area_dist + area_dist.T) /2 * 100"
   ]
  },
  {
   "cell_type": "code",
   "execution_count": 372,
   "metadata": {},
   "outputs": [],
   "source": [
    "def manhattan(r1,r2):\n",
    "    dist = 0\n",
    "    for e1 in r1:\n",
    "        e1min = 100\n",
    "        for e2 in r2:\n",
    "            if area_dist[unique_area_idx[e1],unique_area_idx[e2]] < e1min:\n",
    "                e1min = area_dist[unique_area_idx[e1],unique_area_idx[e2]]\n",
    "        dist += e1min\n",
    "    return dist"
   ]
  },
  {
   "cell_type": "code",
   "execution_count": 373,
   "metadata": {},
   "outputs": [
    {
     "data": {
      "text/plain": [
       "array([[ 0.        , 41.66666667, 16.66666667, 58.33333333],\n",
       "       [41.66666667,  0.        , 62.5       , 62.5       ],\n",
       "       [16.66666667, 62.5       ,  0.        , 50.        ],\n",
       "       [58.33333333, 62.5       , 50.        ,  0.        ]])"
      ]
     },
     "execution_count": 373,
     "metadata": {},
     "output_type": "execute_result"
    }
   ],
   "source": [
    "area_dist"
   ]
  },
  {
   "cell_type": "code",
   "execution_count": 374,
   "metadata": {},
   "outputs": [],
   "source": [
    "researcher_dist = np.ones((len(data),len(data)))"
   ]
  },
  {
   "cell_type": "code",
   "execution_count": 375,
   "metadata": {},
   "outputs": [],
   "source": [
    "for x1,d1 in enumerate(data):\n",
    "    for x2,d2 in enumerate(data):\n",
    "        researcher_dist[x1,x2] = manhattan(d1,d2)"
   ]
  },
  {
   "cell_type": "code",
   "execution_count": null,
   "metadata": {},
   "outputs": [],
   "source": []
  },
  {
   "cell_type": "code",
   "execution_count": 376,
   "metadata": {},
   "outputs": [
    {
     "data": {
      "text/plain": [
       "41.66666666666667"
      ]
     },
     "execution_count": 376,
     "metadata": {},
     "output_type": "execute_result"
    }
   ],
   "source": [
    "manhattan(data[0],data[4])"
   ]
  },
  {
   "cell_type": "code",
   "execution_count": 377,
   "metadata": {},
   "outputs": [
    {
     "name": "stdout",
     "output_type": "stream",
     "text": [
      "{0: array([1]), 1: array([0, 2, 3, 4])}\n"
     ]
    }
   ],
   "source": [
    "print(C)"
   ]
  },
  {
   "cell_type": "code",
   "execution_count": 378,
   "metadata": {},
   "outputs": [],
   "source": [
    "researcher_dist = np.maximum(researcher_dist,researcher_dist.T)"
   ]
  },
  {
   "cell_type": "code",
   "execution_count": 379,
   "metadata": {},
   "outputs": [
    {
     "data": {
      "text/plain": [
       "array([[  0.        , 104.16666667,  91.66666667,  16.66666667,\n",
       "         50.        ],\n",
       "       [104.16666667,   0.        ,  62.5       ,  41.66666667,\n",
       "        166.66666667],\n",
       "       [ 91.66666667,  62.5       ,   0.        ,  58.33333333,\n",
       "         91.66666667],\n",
       "       [ 16.66666667,  41.66666667,  58.33333333,   0.        ,\n",
       "         75.        ],\n",
       "       [ 50.        , 166.66666667,  91.66666667,  75.        ,\n",
       "          0.        ]])"
      ]
     },
     "execution_count": 379,
     "metadata": {},
     "output_type": "execute_result"
    }
   ],
   "source": [
    "researcher_dist "
   ]
  },
  {
   "cell_type": "code",
   "execution_count": 380,
   "metadata": {},
   "outputs": [
    {
     "name": "stdout",
     "output_type": "stream",
     "text": [
      "{0: array([0, 1, 2, 3]), 1: array([4])}\n"
     ]
    }
   ],
   "source": [
    "medoids, clusters = kmedoids.kMedoids(researcher_dist, 2)\n",
    "print(clusters)"
   ]
  },
  {
   "cell_type": "code",
   "execution_count": 387,
   "metadata": {},
   "outputs": [],
   "source": [
    "output = {}"
   ]
  },
  {
   "cell_type": "code",
   "execution_count": 390,
   "metadata": {},
   "outputs": [],
   "source": [
    "for c in clusters.values():\n",
    "    group = []\n",
    "    for d in c:\n",
    "        group += [rid[d]]\n",
    "    for d in c:\n",
    "        output[rid[d]] = list(set(group) - set([rid[d]]))"
   ]
  },
  {
   "cell_type": "code",
   "execution_count": 391,
   "metadata": {},
   "outputs": [
    {
     "data": {
      "text/plain": [
       "{'q1': ['q4', 'q2', 'q3'],\n",
       " 'q2': ['q4', 'q1', 'q3'],\n",
       " 'q3': ['q4', 'q2', 'q1'],\n",
       " 'q4': ['q3', 'q2', 'q1'],\n",
       " 'q5': []}"
      ]
     },
     "execution_count": 391,
     "metadata": {},
     "output_type": "execute_result"
    }
   ],
   "source": [
    "output"
   ]
  },
  {
   "cell_type": "code",
   "execution_count": null,
   "metadata": {},
   "outputs": [],
   "source": []
  }
 ],
 "metadata": {
  "kernelspec": {
   "display_name": "Python 3",
   "language": "python",
   "name": "python3"
  },
  "language_info": {
   "codemirror_mode": {
    "name": "ipython",
    "version": 3
   },
   "file_extension": ".py",
   "mimetype": "text/x-python",
   "name": "python",
   "nbconvert_exporter": "python",
   "pygments_lexer": "ipython3",
   "version": "3.6.6"
  }
 },
 "nbformat": 4,
 "nbformat_minor": 1
}
